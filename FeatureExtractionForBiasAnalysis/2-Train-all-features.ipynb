{
 "cells": [
  {
   "cell_type": "code",
   "execution_count": 1,
   "id": "61454b34",
   "metadata": {},
   "outputs": [],
   "source": [
    "import pandas as pd\n",
    "import numpy as np\n",
    "import torch\n",
    "import torch.nn as nn\n",
    "import torch.nn.functional as F\n",
    "from torch.utils.data import Dataset\n",
    "from torch.utils.data import DataLoader\n",
    "from sklearn.metrics import accuracy_score, balanced_accuracy_score, precision_score, recall_score, f1_score\n",
    "import matplotlib.pyplot as plt"
   ]
  },
  {
   "cell_type": "markdown",
   "id": "f6cf8293",
   "metadata": {},
   "source": [
    "### Load train and test set"
   ]
  },
  {
   "cell_type": "code",
   "execution_count": 2,
   "id": "3a307292",
   "metadata": {},
   "outputs": [],
   "source": [
    "train_df = pd.read_csv(\"train.csv\")\n",
    "test_df = pd.read_csv(\"test.csv\")\n",
    "\n",
    "train_df = train_df.loc[:, ~train_df.columns.str.startswith('tfidf')]\n",
    "test_df = test_df.loc[:, ~test_df.columns.str.startswith('tfidf')]"
   ]
  },
  {
   "cell_type": "markdown",
   "id": "0bca2ddd",
   "metadata": {},
   "source": [
    "### Dataset"
   ]
  },
  {
   "cell_type": "code",
   "execution_count": 3,
   "id": "eb97068e",
   "metadata": {},
   "outputs": [],
   "source": [
    "class PeerReviewDataset(Dataset):\n",
    "    def __init__(self, dataframe):\n",
    "        self.X = torch.tensor(dataframe.drop(columns=[\"label\"]).values, dtype=torch.float32)\n",
    "        self.y = torch.tensor(dataframe[\"label\"].values, dtype=torch.float32)\n",
    "\n",
    "    def __len__(self):\n",
    "        return len(self.y)\n",
    "\n",
    "    def __getitem__(self, idx):\n",
    "        return self.X[idx], self.y[idx]"
   ]
  },
  {
   "cell_type": "markdown",
   "id": "90f96086",
   "metadata": {},
   "source": [
    "### Neural Network"
   ]
  },
  {
   "cell_type": "code",
   "execution_count": 4,
   "id": "456b0317",
   "metadata": {},
   "outputs": [],
   "source": [
    "class PeerReviewNet(nn.Module):\n",
    "    def __init__(self, input_dim):\n",
    "        super(PeerReviewNet, self).__init__()\n",
    "        self.fc1 = nn.Linear(input_dim, 32)\n",
    "        self.dropout = nn.Dropout(0.5)\n",
    "        self.fc2 = nn.Linear(32, 16)\n",
    "        self.output = nn.Linear(16, 1)\n",
    "\n",
    "    def forward(self, x):\n",
    "        x = F.relu(self.fc1(x))\n",
    "        x = self.dropout(x)\n",
    "        x = F.relu(self.fc2(x))\n",
    "        return torch.sigmoid(self.output(x))"
   ]
  },
  {
   "cell_type": "markdown",
   "id": "2c242787",
   "metadata": {},
   "source": [
    "### Training Loop"
   ]
  },
  {
   "cell_type": "code",
   "execution_count": 5,
   "id": "89e159df",
   "metadata": {},
   "outputs": [],
   "source": [
    "def train_model(model, dataloader, epochs=10, lr=0.01):\n",
    "    criterion = nn.BCELoss()\n",
    "    optimizer = torch.optim.SGD(model.parameters(), lr=lr, momentum=0.9, nesterov=True)\n",
    "\n",
    "    model.train()\n",
    "    for epoch in range(epochs):\n",
    "        total_loss = 0\n",
    "        for X_batch, y_batch in dataloader:\n",
    "            optimizer.zero_grad()\n",
    "            outputs = model(X_batch).squeeze()\n",
    "            y_batch = y_batch.float()\n",
    "            loss = criterion(outputs, y_batch)\n",
    "            loss.backward()\n",
    "            optimizer.step()\n",
    "            total_loss += loss.item()\n",
    "        print(f\"Epoch {epoch + 1}: Loss = {total_loss:.4f}\")\n"
   ]
  },
  {
   "cell_type": "markdown",
   "id": "de22b2a4",
   "metadata": {},
   "source": [
    "### Evaluate model"
   ]
  },
  {
   "cell_type": "code",
   "execution_count": 6,
   "id": "d0099158",
   "metadata": {},
   "outputs": [],
   "source": [
    "def evaluate_model(model, dataloader):\n",
    "    model.eval()\n",
    "    all_preds = []\n",
    "    all_labels = []\n",
    "\n",
    "    with torch.no_grad():\n",
    "        for X_batch, y_batch in dataloader:\n",
    "            outputs = model(X_batch).squeeze()\n",
    "            all_preds.extend(outputs.cpu().numpy())\n",
    "            all_labels.extend(y_batch.cpu().numpy())\n",
    "\n",
    "    # Threshold sigmoid outputs at 0.5\n",
    "    pred_labels = [1 if p >= 0.5 else 0 for p in all_preds]\n",
    "    acc = accuracy_score(all_labels, pred_labels)\n",
    "    bacc = balanced_accuracy_score(all_labels, pred_labels)\n",
    "    prec = precision_score(all_labels, pred_labels, zero_division=0)\n",
    "    rec = recall_score(all_labels, pred_labels, zero_division=0)\n",
    "    f1 = f1_score(all_labels, pred_labels, zero_division=0)\n",
    "\n",
    "    print(f\"Accuracy:  {acc:.4f}\")\n",
    "    print(f\"B-Accuracy:  {bacc:.4f}\")\n",
    "    print(f\"Precision: {prec:.4f}\")\n",
    "    print(f\"Recall:    {rec:.4f}\")\n",
    "    print(f\"F1 Score:  {f1:.4f}\")\n",
    "    return {\n",
    "        \"accuracy\": acc,\n",
    "        \"balanced_accuracy\": bacc,\n",
    "        \"precision\": prec,\n",
    "        \"recall\": rec,\n",
    "        \"f1\": f1\n",
    "    }"
   ]
  },
  {
   "cell_type": "markdown",
   "id": "f7e6b1cf",
   "metadata": {},
   "source": [
    "### Prepare data"
   ]
  },
  {
   "cell_type": "code",
   "execution_count": 7,
   "id": "577c3414",
   "metadata": {},
   "outputs": [],
   "source": [
    "from sklearn.preprocessing import StandardScaler\n",
    "\n",
    "scaler = StandardScaler()\n",
    "X_train = scaler.fit_transform(train_df.drop(\"label\", axis=1))\n",
    "X_test = scaler.transform(test_df.drop(\"label\", axis=1))\n",
    "\n",
    "train_df.loc[:, train_df.columns != \"label\"] = X_train\n",
    "test_df.loc[:, test_df.columns != \"label\"] = X_test"
   ]
  },
  {
   "cell_type": "code",
   "execution_count": 8,
   "id": "cfd38fb4",
   "metadata": {},
   "outputs": [],
   "source": [
    "# Create datasets\n",
    "train_dataset = PeerReviewDataset(train_df)\n",
    "test_dataset = PeerReviewDataset(test_df)\n",
    "\n",
    "# Create dataloaders\n",
    "train_loader = DataLoader(train_dataset, batch_size=32, shuffle=True)\n",
    "test_loader = DataLoader(test_dataset, batch_size=32)"
   ]
  },
  {
   "cell_type": "markdown",
   "id": "179c5e35",
   "metadata": {},
   "source": [
    "### Training and Evaluation"
   ]
  },
  {
   "cell_type": "code",
   "execution_count": 9,
   "id": "6a17f2fe",
   "metadata": {},
   "outputs": [
    {
     "name": "stdout",
     "output_type": "stream",
     "text": [
      "Epoch 1: Loss = 86.1678\n",
      "Epoch 2: Loss = 85.3783\n",
      "Epoch 3: Loss = 84.9134\n",
      "Epoch 4: Loss = 84.9562\n",
      "Epoch 5: Loss = 84.5638\n",
      "Epoch 6: Loss = 84.4722\n",
      "Epoch 7: Loss = 84.2015\n",
      "Epoch 8: Loss = 84.1219\n",
      "Epoch 9: Loss = 84.0756\n",
      "Epoch 10: Loss = 83.8426\n",
      "Epoch 11: Loss = 84.0022\n",
      "Epoch 12: Loss = 83.8828\n",
      "Epoch 13: Loss = 83.9953\n",
      "Epoch 14: Loss = 83.5173\n",
      "Epoch 15: Loss = 83.9328\n",
      "Epoch 16: Loss = 83.8185\n",
      "Epoch 17: Loss = 83.8246\n",
      "Epoch 18: Loss = 83.3235\n",
      "Epoch 19: Loss = 83.3848\n",
      "Epoch 20: Loss = 83.4438\n",
      "Epoch 21: Loss = 83.3235\n",
      "Epoch 22: Loss = 83.8686\n",
      "Epoch 23: Loss = 83.1296\n",
      "Epoch 24: Loss = 83.5924\n",
      "Epoch 25: Loss = 83.5766\n",
      "Epoch 26: Loss = 83.3278\n",
      "Epoch 27: Loss = 83.5418\n",
      "Epoch 28: Loss = 83.2957\n",
      "Epoch 29: Loss = 82.9784\n",
      "Epoch 30: Loss = 83.1038\n",
      "Epoch 31: Loss = 83.0154\n",
      "Epoch 32: Loss = 82.9960\n",
      "Epoch 33: Loss = 82.9404\n",
      "Epoch 34: Loss = 83.0571\n",
      "Epoch 35: Loss = 82.8460\n",
      "Epoch 36: Loss = 82.9035\n",
      "Epoch 37: Loss = 82.6506\n",
      "Epoch 38: Loss = 82.9170\n",
      "Epoch 39: Loss = 82.8916\n",
      "Epoch 40: Loss = 83.2192\n",
      "Epoch 41: Loss = 82.8497\n",
      "Epoch 42: Loss = 83.1258\n",
      "Epoch 43: Loss = 83.0462\n",
      "Epoch 44: Loss = 82.9610\n",
      "Epoch 45: Loss = 82.8401\n",
      "Epoch 46: Loss = 82.5603\n",
      "Epoch 47: Loss = 82.5689\n",
      "Epoch 48: Loss = 82.6262\n",
      "Epoch 49: Loss = 82.4411\n",
      "Epoch 50: Loss = 82.8245\n",
      "Epoch 51: Loss = 82.9336\n",
      "Epoch 52: Loss = 82.7518\n",
      "Epoch 53: Loss = 82.7780\n",
      "Epoch 54: Loss = 82.4084\n",
      "Epoch 55: Loss = 82.6488\n",
      "Epoch 56: Loss = 82.4171\n",
      "Epoch 57: Loss = 82.8580\n",
      "Epoch 58: Loss = 82.8307\n",
      "Epoch 59: Loss = 82.6816\n",
      "Epoch 60: Loss = 82.0450\n",
      "Epoch 61: Loss = 82.7240\n",
      "Epoch 62: Loss = 82.4233\n",
      "Epoch 63: Loss = 82.5071\n",
      "Epoch 64: Loss = 82.2650\n",
      "Epoch 65: Loss = 82.5338\n",
      "Epoch 66: Loss = 82.5991\n",
      "Epoch 67: Loss = 82.3119\n",
      "Epoch 68: Loss = 82.4594\n",
      "Epoch 69: Loss = 82.3669\n",
      "Epoch 70: Loss = 82.2167\n",
      "Epoch 71: Loss = 81.8639\n",
      "Epoch 72: Loss = 81.7734\n",
      "Epoch 73: Loss = 82.3001\n",
      "Epoch 74: Loss = 82.1274\n",
      "Epoch 75: Loss = 82.4199\n",
      "Epoch 76: Loss = 81.8361\n",
      "Epoch 77: Loss = 81.9186\n",
      "Epoch 78: Loss = 82.4749\n",
      "Epoch 79: Loss = 82.0189\n",
      "Epoch 80: Loss = 82.3633\n",
      "Epoch 81: Loss = 82.2966\n",
      "Epoch 82: Loss = 82.2821\n",
      "Epoch 83: Loss = 82.5743\n",
      "Epoch 84: Loss = 81.4999\n",
      "Epoch 85: Loss = 82.1187\n",
      "Epoch 86: Loss = 81.8373\n",
      "Epoch 87: Loss = 81.9161\n",
      "Epoch 88: Loss = 82.4189\n",
      "Epoch 89: Loss = 82.1177\n",
      "Epoch 90: Loss = 82.3348\n",
      "Epoch 91: Loss = 81.9059\n",
      "Epoch 92: Loss = 82.2293\n",
      "Epoch 93: Loss = 82.1557\n",
      "Epoch 94: Loss = 81.9544\n",
      "Epoch 95: Loss = 81.8247\n",
      "Epoch 96: Loss = 81.8327\n",
      "Epoch 97: Loss = 81.7501\n",
      "Epoch 98: Loss = 82.1856\n",
      "Epoch 99: Loss = 81.9987\n",
      "Epoch 100: Loss = 81.9620\n",
      "Epoch 101: Loss = 81.6746\n",
      "Epoch 102: Loss = 81.6305\n",
      "Epoch 103: Loss = 81.6436\n",
      "Epoch 104: Loss = 81.7136\n",
      "Epoch 105: Loss = 81.5387\n",
      "Epoch 106: Loss = 81.6877\n",
      "Epoch 107: Loss = 81.4327\n",
      "Epoch 108: Loss = 81.9773\n",
      "Epoch 109: Loss = 81.7211\n",
      "Epoch 110: Loss = 82.0888\n",
      "Epoch 111: Loss = 81.6626\n",
      "Epoch 112: Loss = 81.4755\n",
      "Epoch 113: Loss = 81.7227\n",
      "Epoch 114: Loss = 82.0382\n",
      "Epoch 115: Loss = 81.6392\n",
      "Epoch 116: Loss = 81.6507\n",
      "Epoch 117: Loss = 81.7839\n",
      "Epoch 118: Loss = 81.2102\n",
      "Epoch 119: Loss = 81.6617\n",
      "Epoch 120: Loss = 81.2285\n"
     ]
    }
   ],
   "source": [
    "input_dim = train_df.shape[1] - 1\n",
    "model = PeerReviewNet(input_dim)\n",
    "\n",
    "train_model(model, train_loader, epochs=120)"
   ]
  },
  {
   "cell_type": "code",
   "execution_count": 10,
   "id": "e55bbe14",
   "metadata": {},
   "outputs": [
    {
     "name": "stdout",
     "output_type": "stream",
     "text": [
      "Accuracy:  0.6044\n",
      "B-Accuracy:  0.5660\n",
      "Precision: 0.5901\n",
      "Recall:    0.2811\n",
      "F1 Score:  0.3808\n"
     ]
    },
    {
     "data": {
      "text/plain": [
       "{'accuracy': 0.6043533930857875,\n",
       " 'balanced_accuracy': 0.5660404450558991,\n",
       " 'precision': 0.5900621118012422,\n",
       " 'recall': 0.28106508875739644,\n",
       " 'f1': 0.3807615230460922}"
      ]
     },
     "execution_count": 10,
     "metadata": {},
     "output_type": "execute_result"
    }
   ],
   "source": [
    "evaluate_model(model, test_loader)"
   ]
  },
  {
   "cell_type": "markdown",
   "id": "a10832ab",
   "metadata": {},
   "source": [
    "### Feature Importance from First Hidden Layer"
   ]
  },
  {
   "cell_type": "code",
   "execution_count": 11,
   "id": "b3f9929e",
   "metadata": {},
   "outputs": [],
   "source": [
    "def compute_feature_importance(model):\n",
    "    with torch.no_grad():\n",
    "        weights = model.fc1.weight  # shape: (32, input_dim)\n",
    "        importance = torch.sum(torch.abs(weights), dim=0)  # sum over 32 neurons\n",
    "        normalized = importance / importance.sum()\n",
    "    return normalized.numpy()  # returns shape: (input_dim,)\n",
    "\n",
    "def plot_feature_importance(importance_scores, feature_names, top_n=20):\n",
    "    # Create mapping\n",
    "    feature_importance = {name: score for name, score in zip(feature_names, importance_scores)}\n",
    "    \n",
    "    # Sort by importance\n",
    "    sorted_items = sorted(feature_importance.items(), key=lambda x: x[1], reverse=True)[:top_n]\n",
    "    \n",
    "    # Unpack names and scores\n",
    "    names, scores = zip(*sorted_items)\n",
    "    \n",
    "    # Plot\n",
    "    height = max(4, top_n * 0.3)\n",
    "    plt.figure(figsize=(10, height))\n",
    "    plt.barh(range(len(names)), scores, color='skyblue')\n",
    "    plt.yticks(range(len(names)), names)\n",
    "    plt.gca().invert_yaxis()  # Highest importance at top\n",
    "    plt.xlabel(\"Normalized Importance Score\")\n",
    "    plt.title(f\"Top {top_n} Important Features from First Layer\")\n",
    "    plt.tight_layout()\n",
    "    plt.show()\n",
    "\n"
   ]
  },
  {
   "cell_type": "code",
   "execution_count": 13,
   "id": "887a8b62",
   "metadata": {},
   "outputs": [
    {
     "data": {
      "image/png": "[encoded data removed]",
      "text/plain": [
       "<Figure size 1000x600 with 1 Axes>"
      ]
     },
     "metadata": {},
     "output_type": "display_data"
    }
   ],
   "source": [
    "importance_scores = compute_feature_importance(model)\n",
    "feature_names = train_df.drop(columns=[\"label\"]).columns.tolist()\n",
    "plot_feature_importance(importance_scores, feature_names, top_n=20)"
   ]
  },
  {
   "cell_type": "code",
   "execution_count": null,
   "id": "c57e9c7a",
   "metadata": {},
   "outputs": [],
   "source": []
  }
 ],
 "metadata": {
  "kernelspec": {
   "display_name": "reviewer",
   "language": "python",
   "name": "python3"
  },
  "language_info": {
   "codemirror_mode": {
    "name": "ipython",
    "version": 3
   },
   "file_extension": ".py",
   "mimetype": "text/x-python",
   "name": "python",
   "nbconvert_exporter": "python",
   "pygments_lexer": "ipython3",
   "version": "3.10.16"
  }
 },
 "nbformat": 4,
 "nbformat_minor": 5
}
