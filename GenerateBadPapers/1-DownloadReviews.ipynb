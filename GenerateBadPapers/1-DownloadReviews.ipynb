{
 "cells": [
  {
   "cell_type": "code",
   "execution_count": 1,
   "id": "1af3125f",
   "metadata": {},
   "outputs": [],
   "source": [
    "import openreview\n",
    "import os\n",
    "import json"
   ]
  },
  {
   "cell_type": "markdown",
   "id": "67463b77",
   "metadata": {},
   "source": [
    "### Helper functions"
   ]
  },
  {
   "cell_type": "code",
   "execution_count": 2,
   "id": "57e533fc",
   "metadata": {},
   "outputs": [],
   "source": [
    "def clean_list(papers_list):\n",
    "    if \".DS_Store\" in papers_list:\n",
    "        papers_list.remove(\".DS_Store\")\n",
    "    return papers_list\n",
    "\n",
    "def get_openreview_ids(venue):\n",
    "    accepted = clean_list(os.listdir(os.path.join(venue, \"accepted\")))\n",
    "    rejected = clean_list(os.listdir(os.path.join(venue, \"rejected\")))\n",
    "\n",
    "    accepted_ids = [paper.split(\"_\")[0] for paper in accepted]\n",
    "    rejected_ids = [paper.split(\"_\")[0] for paper in rejected]\n",
    "\n",
    "    return {\n",
    "        \"accepted\": accepted_ids,\n",
    "        \"rejected\": rejected_ids\n",
    "    }\n",
    "\n",
    "def get_reviews(openreview_id):\n",
    "    client = openreview.api.OpenReviewClient(baseurl='https://api2.openreview.net')\n",
    "    all_notes = client.get_notes(forum=openreview_id, details='replies')\n",
    "\n",
    "    return all_notes\n"
   ]
  },
  {
   "cell_type": "code",
   "execution_count": 3,
   "id": "527c944a",
   "metadata": {},
   "outputs": [],
   "source": [
    "def group_reviews_and_replies(paper_review):\n",
    "    review_threads = {}\n",
    "    all_replies = {}\n",
    "\n",
    "    if 'details' not in paper_review or 'replies' not in paper_review['details']:\n",
    "        print(\"The provided JSON does not have the expected structure ('details' -> 'replies').\")\n",
    "        return review_threads\n",
    "\n",
    "    # Step 1: Index all replies\n",
    "    for post in paper_review['details']['replies']:\n",
    "        post_id = post.get('id')\n",
    "        if not post_id:\n",
    "            continue\n",
    "        all_replies[post_id] = post\n",
    "\n",
    "    # Step 2: Identify top-level reviews (direct reply to forum + has rating)\n",
    "    for post_id, post in all_replies.items():\n",
    "        is_review = (post.get('replyto') == paper_review.get('forum') and \n",
    "                     'rating' in post.get('content', {}))\n",
    "        if is_review:\n",
    "            review_threads[post_id] = {\n",
    "                'review': post,\n",
    "                'replies': []\n",
    "            }\n",
    "\n",
    "    # Step 3: Build parent → children mapping\n",
    "    parent_to_children = {}\n",
    "    for post in all_replies.values():\n",
    "        parent_id = post.get('replyto')\n",
    "        if parent_id:\n",
    "            parent_to_children.setdefault(parent_id, []).append(post)\n",
    "\n",
    "    # Step 4: Recursively collect all replies under a review\n",
    "    def collect_thread_replies(parent_id, visited=None):\n",
    "        if visited is None:\n",
    "            visited = set()\n",
    "        replies = parent_to_children.get(parent_id, [])\n",
    "        replies.sort(key=lambda r: r.get('cdate', 0))\n",
    "        thread = []\n",
    "        for reply in replies:\n",
    "            if reply['id'] in visited:\n",
    "                continue\n",
    "            visited.add(reply['id'])\n",
    "            thread.append(reply)\n",
    "            thread.extend(collect_thread_replies(reply['id'], visited))\n",
    "        return thread\n",
    "\n",
    "    # Step 5: Assign threaded replies to each top-level review\n",
    "    visited = set()\n",
    "    for review_id in review_threads:\n",
    "        review_threads[review_id]['replies'] = collect_thread_replies(review_id, visited)\n",
    "\n",
    "    return review_threads\n"
   ]
  },
  {
   "cell_type": "code",
   "execution_count": 4,
   "id": "bab8ebaf",
   "metadata": {},
   "outputs": [],
   "source": [
    "def save_review(paper, review_dict, review_dir):\n",
    "    file_path = os.path.join(review_dir, f\"{paper}.json\")\n",
    "    with open(file_path, 'w', encoding='utf-8') as f:\n",
    "        json.dump(review_dict, f, ensure_ascii=False, indent=2)\n",
    "\n",
    "\n",
    "def process_papers(papers, reviews_dir):\n",
    "    for paper in papers:\n",
    "        try:\n",
    "            reviews = get_reviews(paper)\n",
    "            \n",
    "            main_review = None\n",
    "            for review in reviews:\n",
    "                if review.replyto is None:\n",
    "                    main_review = review\n",
    "\n",
    "            if not main_review:\n",
    "                raise ValueError(f\"Main review not found for {paper}\")\n",
    "\n",
    "            processed_review = group_reviews_and_replies(review.__dict__)\n",
    "            save_review(paper, processed_review, reviews_dir)\n",
    "        except Exception as e:\n",
    "            print(e)\n"
   ]
  },
  {
   "cell_type": "markdown",
   "id": "fb966bae",
   "metadata": {},
   "source": [
    "### Run Code"
   ]
  },
  {
   "cell_type": "code",
   "execution_count": 5,
   "id": "abfc57b3",
   "metadata": {},
   "outputs": [],
   "source": [
    "iclr_2025 = get_openreview_ids(\"ICLR2025\")\n",
    "process_papers(iclr_2025[\"accepted\"], reviews_dir=\"ICLR2025_Reviews_Raw/accepted\")\n",
    "process_papers(iclr_2025[\"rejected\"], reviews_dir=\"ICLR2025_Reviews_Raw/rejected\")"
   ]
  },
  {
   "cell_type": "code",
   "execution_count": null,
   "id": "8bfcb460",
   "metadata": {},
   "outputs": [],
   "source": []
  }
 ],
 "metadata": {
  "kernelspec": {
   "display_name": "reviewer",
   "language": "python",
   "name": "python3"
  },
  "language_info": {
   "codemirror_mode": {
    "name": "ipython",
    "version": 3
   },
   "file_extension": ".py",
   "mimetype": "text/x-python",
   "name": "python",
   "nbconvert_exporter": "python",
   "pygments_lexer": "ipython3",
   "version": "3.10.16"
  }
 },
 "nbformat": 4,
 "nbformat_minor": 5
}
