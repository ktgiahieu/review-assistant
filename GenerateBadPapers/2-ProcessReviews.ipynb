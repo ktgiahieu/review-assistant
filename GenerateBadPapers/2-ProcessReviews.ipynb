{
 "cells": [
  {
   "cell_type": "code",
   "execution_count": 1,
   "id": "1af3125f",
   "metadata": {},
   "outputs": [],
   "source": [
    "import os\n",
    "import json"
   ]
  },
  {
   "cell_type": "markdown",
   "id": "67463b77",
   "metadata": {},
   "source": [
    "### Helper functions"
   ]
  },
  {
   "cell_type": "code",
   "execution_count": 2,
   "id": "57e533fc",
   "metadata": {},
   "outputs": [],
   "source": [
    "def clean_list(alist):\n",
    "    if \".DS_Store\" in alist:\n",
    "        alist.remove(\".DS_Store\")\n",
    "    return alist\n",
    "\n",
    "def save_review(review_file, review_list, reviews_dir):\n",
    "    file_path = os.path.join(reviews_dir, review_file)\n",
    "    with open(file_path, 'w', encoding='utf-8') as f:\n",
    "        json.dump(review_list, f, ensure_ascii=False, indent=2)\n",
    "\n",
    "def load_review_files(reviews_dir):\n",
    "    paper_reviews = clean_list(os.listdir(reviews_dir))\n",
    "    return paper_reviews\n",
    "\n",
    "def load_review(reviews_dir, review_file):\n",
    "    file_path = os.path.join(reviews_dir, review_file)\n",
    "    with open(file_path, 'r', encoding='utf-8') as f:\n",
    "        return json.load(f)\n"
   ]
  },
  {
   "cell_type": "code",
   "execution_count": 3,
   "id": "eb6e57ef",
   "metadata": {},
   "outputs": [],
   "source": [
    "def get_processed_review(full_review):\n",
    "    review_content = []\n",
    "    \n",
    "    for thread in full_review.values():\n",
    "        review = thread['review'][\"content\"]\n",
    "        replies = thread['replies']\n",
    "\n",
    "        # Extract review fields\n",
    "        summary = review.get(\"summary\", {}).get(\"value\", \"\")\n",
    "        strengths = review.get(\"strengths\", {}).get(\"value\", \"\")\n",
    "        weaknesses = review.get(\"weaknesses\", {}).get(\"value\", \"\")\n",
    "        questions = review.get(\"questions\", {}).get(\"value\", \"\")\n",
    "        ethics = review.get(\"flag_for_ethics_review\", {}).get(\"value\", \"\")\n",
    "\n",
    "        # Build the formatted review string\n",
    "        formatted_review = f\"\"\"#### Review:\n",
    "\n",
    "Summary:\n",
    "{summary}\n",
    "\n",
    "Strengths:\n",
    "{strengths}\n",
    "\n",
    "Weaknesses:\n",
    "{weaknesses}\n",
    "\n",
    "Questions:\n",
    "{questions}\n",
    "\n",
    "Ethics:\n",
    "{ethics}\n",
    "\n",
    "#### Replies\n",
    "\"\"\"\n",
    "\n",
    "        # Append replies\n",
    "        for i, reply in enumerate(replies):\n",
    "            reply_text = reply[\"content\"][\"comment\"][\"value\"]\n",
    "            formatted_review += f\"\\n **Reply # {i+1}**\\n{reply_text}\\n\"\n",
    "\n",
    "        # Add the full formatted string to the list\n",
    "        review_content.append(formatted_review.strip())\n",
    "\n",
    "    return review_content"
   ]
  },
  {
   "cell_type": "markdown",
   "id": "1809cb31",
   "metadata": {},
   "source": [
    "### Run Code"
   ]
  },
  {
   "cell_type": "code",
   "execution_count": 4,
   "id": "bab8ebaf",
   "metadata": {},
   "outputs": [],
   "source": [
    "def process_papers(review_files, raw_reviews_dir, processed_reviews_dir):\n",
    "    for review_file in review_files:\n",
    "        try:\n",
    "            review = load_review(raw_reviews_dir, review_file)\n",
    "            processed_reviews = get_processed_review(review)\n",
    "            save_review(review_file, processed_reviews, processed_reviews_dir)\n",
    "        except Exception as e:\n",
    "            print(e)"
   ]
  },
  {
   "cell_type": "code",
   "execution_count": 5,
   "id": "d9f6ad5e",
   "metadata": {},
   "outputs": [],
   "source": [
    "accepted_review_files = load_review_files(\"ICLR2025_Reviews_Raw/accepted\")\n",
    "rejected_review_files = load_review_files(\"ICLR2025_Reviews_Raw/rejected\")\n",
    "\n",
    "process_papers(accepted_review_files, \"ICLR2025_Reviews_Raw/accepted\", \"ICLR2025_Reviews_Processed/accepted\")\n",
    "process_papers(rejected_review_files, \"ICLR2025_Reviews_Raw/rejected\", \"ICLR2025_Reviews_Processed/rejected\")"
   ]
  }
 ],
 "metadata": {
  "kernelspec": {
   "display_name": "reviewer",
   "language": "python",
   "name": "python3"
  },
  "language_info": {
   "codemirror_mode": {
    "name": "ipython",
    "version": 3
   },
   "file_extension": ".py",
   "mimetype": "text/x-python",
   "name": "python",
   "nbconvert_exporter": "python",
   "pygments_lexer": "ipython3",
   "version": "3.10.16"
  }
 },
 "nbformat": 4,
 "nbformat_minor": 5
}
