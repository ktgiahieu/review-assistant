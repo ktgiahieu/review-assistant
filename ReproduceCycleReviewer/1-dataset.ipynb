{
 "cells": [
  {
   "cell_type": "markdown",
   "id": "e484a4ba",
   "metadata": {},
   "source": [
    "# Download Dataset"
   ]
  },
  {
   "cell_type": "code",
   "execution_count": null,
   "id": "4d88aa0c",
   "metadata": {},
   "outputs": [],
   "source": [
    "# from datasets import load_dataset\n",
    "\n",
    "# dataset_dir = \"./review-5k-dataset\"\n",
    "# dataset = load_dataset(\n",
    "#     \"WestlakeNLP/Review-5K\",\n",
    "#     cache_dir=dataset_dir\n",
    "# )\n",
    "# dataset.save_to_disk(\"review-5k-dataset\")"
   ]
  },
  {
   "cell_type": "markdown",
   "id": "90f96086",
   "metadata": {},
   "source": [
    "# Load from Disc"
   ]
  },
  {
   "cell_type": "code",
   "execution_count": null,
   "id": "456b0317",
   "metadata": {},
   "outputs": [],
   "source": [
    "# from datasets import load_from_disk\n",
    "# dataset = load_from_disk(\"review-5k-dataset\")\n",
    "# print(dataset)"
   ]
  },
  {
   "cell_type": "markdown",
   "id": "d3f69557",
   "metadata": {},
   "source": [
    "### Extract 150 accepted and 150 rejected from train"
   ]
  },
  {
   "cell_type": "code",
   "execution_count": null,
   "id": "445cd710",
   "metadata": {},
   "outputs": [],
   "source": [
    "# train_accepted, train_rejected = [], []\n",
    "# for paper in dataset[\"train\"]:\n",
    "#     if len(train_accepted) == 150 and len(train_rejected) == 150:\n",
    "#         break\n",
    "#     if \"Reject\" in paper[\"decision\"] and len(train_rejected) < 150:\n",
    "#         train_rejected.append(paper)\n",
    "#         continue\n",
    "#     if \"Accept\" in paper[\"decision\"] and len(train_accepted) < 150:\n",
    "#         train_accepted.append(paper)\n",
    "#         continue\n",
    "    "
   ]
  },
  {
   "cell_type": "markdown",
   "id": "088ef2e9",
   "metadata": {},
   "source": [
    "### Sample 300 from train"
   ]
  },
  {
   "cell_type": "code",
   "execution_count": null,
   "id": "2be17af7",
   "metadata": {},
   "outputs": [],
   "source": [
    "# sample_300 = dataset[\"train\"].shuffle(seed=42).select(range(300))"
   ]
  },
  {
   "cell_type": "markdown",
   "id": "f09d3403",
   "metadata": {},
   "source": [
    "### Save selected 300 papers"
   ]
  },
  {
   "cell_type": "code",
   "execution_count": null,
   "id": "d7d84c06",
   "metadata": {},
   "outputs": [],
   "source": [
    "# import os\n",
    "# import json\n",
    "\n",
    "# def save_json_to_folder(filename, data):\n",
    "#     file_to_save = os.path.join(\"review-5k-dataset\",\"300\", filename)\n",
    "#     with open(file_to_save, \"w\", encoding=\"utf-8\") as f:\n",
    "#         json.dump(data, f, indent=2, ensure_ascii=False)\n",
    "\n",
    "# for p in sample_300:\n",
    "#     save_json_to_folder(f\"{p['id']}.json\", p)"
   ]
  },
  {
   "cell_type": "code",
   "execution_count": null,
   "id": "bb128e71",
   "metadata": {},
   "outputs": [],
   "source": [
    "dataset[\"test\"][0]"
   ]
  },
  {
   "cell_type": "code",
   "execution_count": 7,
   "id": "999f842a",
   "metadata": {},
   "outputs": [],
   "source": [
    "import os \n",
    "\n",
    "def get_300_sampled_papers():\n",
    "    papers_path = os.path.join(\"review-5k-dataset\", \"300\")\n",
    "    sampled_300_papers = os.listdir(papers_path)\n",
    "    if \".DS_Store\" in sampled_300_papers:\n",
    "        sampled_300_papers.remove(\".DS_Store\")\n",
    "    return sampled_300_papers"
   ]
  },
  {
   "cell_type": "code",
   "execution_count": 8,
   "id": "4ed72f94",
   "metadata": {},
   "outputs": [],
   "source": [
    "papers = get_300_sampled_papers()"
   ]
  },
  {
   "cell_type": "code",
   "execution_count": null,
   "id": "a3f255f5",
   "metadata": {},
   "outputs": [],
   "source": [
    "with open(\"300_sampled_paper_ids.txt\", \"w\") as file:\n",
    "    for p in papers:\n",
    "        name = p.split(\".\")[0]\n",
    "        file.write(name + \"\\n\")"
   ]
  },
  {
   "cell_type": "markdown",
   "id": "4b9e6451",
   "metadata": {},
   "source": [
    "### Extract 100 papers from 300"
   ]
  },
  {
   "cell_type": "code",
   "execution_count": 19,
   "id": "7474d090",
   "metadata": {},
   "outputs": [],
   "source": [
    "import json\n",
    "\n",
    "accepted, rejected = [], []\n",
    "for paper in papers:\n",
    "    with open(f\"review-5k-dataset/300/{paper}\", 'r') as file:\n",
    "        data = json.load(file)\n",
    "        if \"accept\" in data[\"decision\"].lower() and len(accepted)<50:\n",
    "            accepted.append(paper)\n",
    "        if \"reject\" in data[\"decision\"].lower() and len(rejected)<50:\n",
    "            rejected.append(paper)\n",
    "        \n",
    "        if len(accepted)==50 and len(rejected)==50:\n",
    "            break"
   ]
  },
  {
   "cell_type": "code",
   "execution_count": 23,
   "id": "349867d5",
   "metadata": {},
   "outputs": [],
   "source": [
    "with open(\"100_sampled_paper_ids.txt\", \"w\") as file:\n",
    "    for p in accepted:\n",
    "        name = p.split(\".\")[0]\n",
    "        file.write(name + \"\\n\")\n",
    "    for p in rejected:\n",
    "        name = p.split(\".\")[0]\n",
    "        file.write(name + \"\\n\")"
   ]
  },
  {
   "cell_type": "code",
   "execution_count": null,
   "id": "98630715",
   "metadata": {},
   "outputs": [],
   "source": []
  }
 ],
 "metadata": {
  "kernelspec": {
   "display_name": "reviewer",
   "language": "python",
   "name": "python3"
  },
  "language_info": {
   "codemirror_mode": {
    "name": "ipython",
    "version": 3
   },
   "file_extension": ".py",
   "mimetype": "text/x-python",
   "name": "python",
   "nbconvert_exporter": "python",
   "pygments_lexer": "ipython3",
   "version": "3.10.16"
  }
 },
 "nbformat": 4,
 "nbformat_minor": 5
}
