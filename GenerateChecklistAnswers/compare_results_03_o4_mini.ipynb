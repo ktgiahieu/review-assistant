{
 "cells": [
  {
   "cell_type": "code",
   "execution_count": 1,
   "id": "25a234f8",
   "metadata": {},
   "outputs": [],
   "source": [
    "import pandas as pd\n",
    "import numpy as np\n",
    "import ast\n",
    "import matplotlib.pyplot as plt"
   ]
  },
  {
   "cell_type": "code",
   "execution_count": null,
   "id": "9a954835",
   "metadata": {},
   "outputs": [],
   "source": [
    "df = pd.read_csv(\"data/checklist_answers_50_papers/all_papers.csv\")\n",
    "df_o3 = df[df.venue == \"ICLR2024_o3\"]\n",
    "df_o4 = df[df.venue == \"ICLR2024_o4_mini\"]"
   ]
  },
  {
   "cell_type": "code",
   "execution_count": null,
   "id": "8d641727",
   "metadata": {},
   "outputs": [],
   "source": [
    "def compute_average_variance(df_subset, score_cols):\n",
    "    variances = {}\n",
    "    for col in score_cols:\n",
    "        # Compute variance for each row, then average across all rows\n",
    "        checklist_variances = df_subset[col].apply(lambda x: np.var(x) if isinstance(x, list) else np.nan)\n",
    "        variances[col] = checklist_variances.mean()\n",
    "    return variances    \n",
    "\n",
    "def convert_string_to_int(df, score_cols):\n",
    "    for col in score_cols:\n",
    "        df[col] = df[col].apply(lambda x: ast.literal_eval(x) if isinstance(x, str) else x)\n"
   ]
  },
  {
   "cell_type": "code",
   "execution_count": null,
   "id": "c5c67d4e",
   "metadata": {},
   "outputs": [],
   "source": [
    "score_cols = [col for col in df.columns if col.endswith('_score')]\n",
    "convert_string_to_int(df_o3, score_cols)\n",
    "convert_string_to_int(df_o4, score_cols)\n",
    "\n",
    "variance_o3 = compute_average_variance(df_o3, score_cols)\n",
    "variance_o4 = compute_average_variance(df_o4, score_cols)\n",
    "\n",
    "comparison_df = pd.DataFrame({\n",
    "    'o3_variance': variance_o3,\n",
    "    'o4_mini_variance': variance_o4\n",
    "})\n",
    "comparison_df['better_model'] = comparison_df.apply(\n",
    "    lambda row: 'o3' if row['o3_variance'] < row['o4_mini_variance'] else 'o4_mini',\n",
    "    axis=1\n",
    ")\n",
    "\n",
    "\n",
    "# Add row for combined (mean) variance\n",
    "combined = pd.Series({\n",
    "    'o3_variance': np.mean(list(variance_o3.values())),\n",
    "    'o4_mini_variance': np.mean(list(variance_o4.values())),\n",
    "}, name='combined_average')\n",
    "\n",
    "comparison_df = pd.concat([comparison_df, combined.to_frame().T])\n",
    "comparison_df['better_model'] = comparison_df.apply(\n",
    "    lambda row: 'o3' if row['o3_variance'] < row['o4_mini_variance'] else 'o4_mini',\n",
    "    axis=1\n",
    ")\n",
    "\n",
    "print(comparison_df)\n",
    "\n"
   ]
  },
  {
   "cell_type": "code",
   "execution_count": null,
   "id": "740c6ec4",
   "metadata": {},
   "outputs": [],
   "source": [
    "comparison_df[['o3_variance', 'o4_mini_variance']].plot(kind='bar', figsize=(10,5))\n",
    "plt.title('Checklist Variance Comparison: o3 vs o4_mini')\n",
    "plt.ylabel('Average Variance Across Papers')\n",
    "plt.xticks(rotation=45)\n",
    "plt.tight_layout()\n",
    "plt.show()"
   ]
  }
 ],
 "metadata": {
  "kernelspec": {
   "display_name": "reviewer",
   "language": "python",
   "name": "python3"
  },
  "language_info": {
   "codemirror_mode": {
    "name": "ipython",
    "version": 3
   },
   "file_extension": ".py",
   "mimetype": "text/x-python",
   "name": "python",
   "nbconvert_exporter": "python",
   "pygments_lexer": "ipython3",
   "version": "3.10.16"
  }
 },
 "nbformat": 4,
 "nbformat_minor": 5
}
